{
 "cells": [
  {
   "cell_type": "code",
   "execution_count": null,
   "metadata": {
    "collapsed": false
   },
   "outputs": [],
   "source": [
    "from ghost import Ghost\n",
    "ghost = Ghost()"
   ]
  },
  {
   "cell_type": "code",
   "execution_count": null,
   "metadata": {
    "collapsed": false
   },
   "outputs": [
    {
     "name": "stderr",
     "output_type": "stream",
     "text": [
      "2016-02-03T10:26:59.991Z [CRITICAL] QT: Cannot mix incompatible Qt library (version 0x40807) with this library (version 0x40806)\n",
      "CRITICAL:qt:Cannot mix incompatible Qt library (version 0x40807) with this library (version 0x40806)\n"
     ]
    }
   ],
   "source": [
    "with ghost.start() as session:\n",
    "    page, resources = session.open(\"http://jeanphix.me\")\n",
    "    assert page.http_status == 200 and 'jeanphix' in page.content"
   ]
  }
 ],
 "metadata": {
  "kernelspec": {
   "display_name": "Python 2",
   "language": "python",
   "name": "python2"
  },
  "language_info": {
   "codemirror_mode": {
    "name": "ipython",
    "version": 2
   },
   "file_extension": ".py",
   "mimetype": "text/x-python",
   "name": "python",
   "nbconvert_exporter": "python",
   "pygments_lexer": "ipython2",
   "version": "2.7.11"
  }
 },
 "nbformat": 4,
 "nbformat_minor": 0
}
